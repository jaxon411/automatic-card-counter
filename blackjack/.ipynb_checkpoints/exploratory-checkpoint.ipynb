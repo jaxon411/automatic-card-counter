{
 "cells": [
  {
   "cell_type": "code",
   "execution_count": 1,
   "metadata": {},
   "outputs": [],
   "source": [
    "import numpy as np\n",
    "from numpy import random\n",
    "import matplotlib.pyplot as plt\n",
    "import pandas as pd\n",
    "import shoe"
   ]
  },
  {
   "cell_type": "code",
   "execution_count": 2,
   "metadata": {},
   "outputs": [],
   "source": [
    "#Dictionary of Blackjack Cards\n",
    "\n",
    "cards = {'two':2,\n",
    "        'three':3,\n",
    "        'four':4,\n",
    "        'five':5,\n",
    "        'six':6,\n",
    "        'seven':7,\n",
    "        'eight':8,\n",
    "        'nine':9,\n",
    "        'ten':10,\n",
    "        'jack':10,\n",
    "        'queen':10,\n",
    "        'king':10,\n",
    "        'ace':[11,1]}"
   ]
  },
  {
   "cell_type": "code",
   "execution_count": 8,
   "metadata": {},
   "outputs": [],
   "source": [
    "def CreateDeck():\n",
    "    #RETURNS: deck - list of str of cards making a standard 52 card deck\n",
    "    deck = list(cards.keys())*4\n",
    "#     random.shuffle(deck) #inplace shuffle\n",
    "    \n",
    "    return deck"
   ]
  },
  {
   "cell_type": "code",
   "execution_count": 21,
   "metadata": {},
   "outputs": [
    {
     "name": "stdout",
     "output_type": "stream",
     "text": [
      "2 deck cut boundaries: 0.09615384615384616 to 0.14423076923076922\n",
      "6 deck cut boundaries: 0.16666666666666666 to 0.25\n",
      "Dealer always penetrates at a range of 1 to 1.5 decks from the back, or 0.16666666666666666 to 0.25\n"
     ]
    }
   ],
   "source": [
    "print(f'2 deck cut boundaries: {10/(52*2)} to {15/(52*2)}')\n",
    "print(f'6 deck cut boundaries: {52/(52*6)} to {78/(52*6)}')\n",
    "print(f'Dealer always penetrates at a range of 1 to 1.5 decks from the back, or {52/(52*6)} to {78/(52*6)}')"
   ]
  },
  {
   "cell_type": "code",
   "execution_count": 25,
   "metadata": {
    "jupyter": {
     "source_hidden": true
    }
   },
   "outputs": [],
   "source": [
    "#DEPRICATED\n",
    "#UPDATED VERSION IN shoe.py\n",
    "\n",
    "def CreateShoe(deck,shoe_size = 6):\n",
    "    '''\n",
    "    PARAMETERS:\n",
    "    shoe_size - int of number of decks in shoe\n",
    "\n",
    "    RETURNS:\n",
    "    tuple - list of [shoe_size * deck] cards minus random penetration\n",
    "            and\n",
    "            list of cards equal to penetration (reserve cards for dealing last hand)\n",
    "    '''\n",
    "\n",
    "    if shoe_size > 2:\n",
    "        pen_range = [(52/(52*shoe_size)), ((52*1.5)/(52*shoe_size))]\n",
    "    else:\n",
    "        #single and double deck penetrate from 10 to 15 cards\n",
    "        pen_range = [10/(52*shoe_size), 15/(52*shoe_size)]\n",
    "\n",
    "    #ensures that each deck added to the shoe is shuffled\n",
    "    #this might just be gamblers superstition on my part...\n",
    "    shoe = []\n",
    "    for _ in range(shoe_size):\n",
    "        random.shuffle(deck)\n",
    "        shoe += deck\n",
    "        \n",
    "    random.shuffle(shoe) #in-place shuffle\n",
    "    \n",
    "    #generates penetration at a random specific card based on pen_range\n",
    "    penetration = round(len(shoe)*random.uniform(pen_range[0],pen_range[1]))\n",
    "    #generates playbale shoe with cards equal to penetration taken out\n",
    "    \n",
    "    return shoe[:-penetration],shoe[-penetration:]"
   ]
  },
  {
   "cell_type": "code",
   "execution_count": 9,
   "metadata": {},
   "outputs": [],
   "source": [
    "deck = CreateDeck()\n",
    "# type(deck)"
   ]
  },
  {
   "cell_type": "code",
   "execution_count": 5,
   "metadata": {},
   "outputs": [],
   "source": [
    "playable_shoe = shoe.Shoe()\n",
    "playable_shoe.CreateShoe(deck)"
   ]
  },
  {
   "cell_type": "code",
   "execution_count": 10,
   "metadata": {},
   "outputs": [
    {
     "name": "stdout",
     "output_type": "stream",
     "text": [
      "241\n",
      "three\n",
      "240\n"
     ]
    }
   ],
   "source": [
    "print(len(playable_shoe._shoe))\n",
    "card = playable_shoe.DrawCard()\n",
    "print(card)\n",
    "print(len(playable_shoe._shoe))"
   ]
  },
  {
   "cell_type": "code",
   "execution_count": null,
   "metadata": {},
   "outputs": [],
   "source": [
    "def GetHandValue(hand):\n",
    "    hand_value = 0\n",
    "    for card in hand:\n",
    "        hand_value"
   ]
  },
  {
   "cell_type": "code",
   "execution_count": null,
   "metadata": {},
   "outputs": [],
   "source": [
    "def PlayBlackjack(_shoe):\n",
    "    playing = True\n",
    "    deck = CreateDeck()\n",
    "    \n",
    "    while playing \n",
    "        if len(shoe._shoe) == 0:\n",
    "            _shoe.CreateShoe(deck)\n",
    "        \n",
    "        in_hand = True\n",
    "        while in_hand:\n",
    "            p_hand = {'cards':[],\n",
    "                    'value':0}\n",
    "            d_hand = {'cards':[],\n",
    "                    'value':0}\n",
    "            \n",
    "            \n",
    "            "
   ]
  }
 ],
 "metadata": {
  "kernelspec": {
   "display_name": "Environment (conda_tensorflow2_latest_p37)",
   "language": "python",
   "name": "conda_tensorflow2_latest_p37"
  },
  "language_info": {
   "codemirror_mode": {
    "name": "ipython",
    "version": 3
   },
   "file_extension": ".py",
   "mimetype": "text/x-python",
   "name": "python",
   "nbconvert_exporter": "python",
   "pygments_lexer": "ipython3",
   "version": "3.7.6"
  }
 },
 "nbformat": 4,
 "nbformat_minor": 4
}
