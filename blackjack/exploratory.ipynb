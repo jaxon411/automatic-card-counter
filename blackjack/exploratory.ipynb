{
 "cells": [
  {
   "cell_type": "code",
   "execution_count": 1,
   "metadata": {},
   "outputs": [],
   "source": [
    "import numpy as np\n",
    "from numpy import random\n",
    "import matplotlib.pyplot as plt\n",
    "import pandas as pd\n",
    "import shoe\n",
    "import blackjack"
   ]
  },
  {
   "cell_type": "code",
   "execution_count": 2,
   "metadata": {
    "jupyter": {
     "source_hidden": true
    }
   },
   "outputs": [],
   "source": [
    "#DEPRICATED\n",
    "#cards DICTIONARY IS NOW STORED IN blackjack.py\n",
    "#Dictionary of Blackjack Cards\n",
    "cards = {'two':2,\n",
    "        'three':3,\n",
    "        'four':4,\n",
    "        'five':5,\n",
    "        'six':6,\n",
    "        'seven':7,\n",
    "        'eight':8,\n",
    "        'nine':9,\n",
    "        'ten':10,\n",
    "        'jack':10,\n",
    "        'queen':10,\n",
    "        'king':10,\n",
    "        'ace':[11,1]}"
   ]
  },
  {
   "cell_type": "code",
   "execution_count": 8,
   "metadata": {
    "jupyter": {
     "source_hidden": true
    }
   },
   "outputs": [],
   "source": [
    "#DEPRICATED\n",
    "#CreateDeck METHOD IS NOW IN blackjack.py\n",
    "def CreateDeck():\n",
    "    #RETURNS: deck - list of str of cards making a standard 52 card deck\n",
    "    deck = list(cards.keys())*4\n",
    "#     random.shuffle(deck) #inplace shuffle\n",
    "    \n",
    "    return deck"
   ]
  },
  {
   "cell_type": "code",
   "execution_count": 21,
   "metadata": {},
   "outputs": [
    {
     "name": "stdout",
     "output_type": "stream",
     "text": [
      "2 deck cut boundaries: 0.09615384615384616 to 0.14423076923076922\n",
      "6 deck cut boundaries: 0.16666666666666666 to 0.25\n",
      "Dealer always penetrates at a range of 1 to 1.5 decks from the back, or 0.16666666666666666 to 0.25\n"
     ]
    }
   ],
   "source": [
    "print(f'2 deck cut boundaries: {10/(52*2)} to {15/(52*2)}')\n",
    "print(f'6 deck cut boundaries: {52/(52*6)} to {78/(52*6)}')\n",
    "print(f'Dealer always penetrates at a range of 1 to 1.5 decks from the back, or {52/(52*6)} to {78/(52*6)}')"
   ]
  },
  {
   "cell_type": "code",
   "execution_count": 25,
   "metadata": {
    "jupyter": {
     "source_hidden": true
    }
   },
   "outputs": [],
   "source": [
    "#DEPRICATED\n",
    "#UPDATED VERSION IN shoe.py\n",
    "\n",
    "def CreateShoe(deck,shoe_size = 6):\n",
    "    '''\n",
    "    PARAMETERS:\n",
    "    shoe_size - int of number of decks in shoe\n",
    "\n",
    "    RETURNS:\n",
    "    tuple - list of [shoe_size * deck] cards minus random penetration\n",
    "            and\n",
    "            list of cards equal to penetration (reserve cards for dealing last hand)\n",
    "    '''\n",
    "\n",
    "    if shoe_size > 2:\n",
    "        pen_range = [(52/(52*shoe_size)), ((52*1.5)/(52*shoe_size))]\n",
    "    else:\n",
    "        #single and double deck penetrate from 10 to 15 cards\n",
    "        pen_range = [10/(52*shoe_size), 15/(52*shoe_size)]\n",
    "\n",
    "    #ensures that each deck added to the shoe is shuffled\n",
    "    #this might just be gamblers superstition on my part...\n",
    "    shoe = []\n",
    "    for _ in range(shoe_size):\n",
    "        random.shuffle(deck)\n",
    "        shoe += deck\n",
    "        \n",
    "    random.shuffle(shoe) #in-place shuffle\n",
    "    \n",
    "    #generates penetration at a random specific card based on pen_range\n",
    "    penetration = round(len(shoe)*random.uniform(pen_range[0],pen_range[1]))\n",
    "    #generates playbale shoe with cards equal to penetration taken out\n",
    "    \n",
    "    return shoe[:-penetration],shoe[-penetration:]"
   ]
  },
  {
   "cell_type": "code",
   "execution_count": 4,
   "metadata": {},
   "outputs": [],
   "source": [
    "deck = blackjack.CreateDeck()\n",
    "# type(deck)"
   ]
  },
  {
   "cell_type": "code",
   "execution_count": 5,
   "metadata": {},
   "outputs": [],
   "source": [
    "playable_shoe = shoe.Shoe()\n",
    "playable_shoe.CreateShoe(deck)"
   ]
  },
  {
   "cell_type": "code",
   "execution_count": 31,
   "metadata": {
    "jupyter": {
     "source_hidden": true
    }
   },
   "outputs": [
    {
     "name": "stdout",
     "output_type": "stream",
     "text": [
      "239\n",
      "eight\n",
      "238\n"
     ]
    }
   ],
   "source": [
    "#Debug purposes only\n",
    "print(len(playable_shoe._shoe))\n",
    "card = playable_shoe.DrawCard()\n",
    "print(card)\n",
    "print(len(playable_shoe._shoe))"
   ]
  },
  {
   "cell_type": "code",
   "execution_count": 76,
   "metadata": {
    "jupyter": {
     "source_hidden": true
    }
   },
   "outputs": [],
   "source": [
    "#DEPRICATED\n",
    "#GetHandValue IS NOW A METHOD IN blackjack.py\n",
    "def GetHandValue(hand):\n",
    "    '''\n",
    "    Gets the value of a single blackjack hand\n",
    "    \n",
    "    PARAMETERS:\n",
    "    hand - list of cards as str corresponding with cards dictionary\n",
    "    \n",
    "    RETURNS:\n",
    "    hand_value - int in hand value (highest possible hand value if aces are present)\n",
    "    '''\n",
    "    \n",
    "    \n",
    "    hand_value = 0\n",
    "    num_aces = hand.count('ace') #gets number of aces\n",
    "    aces_value = num_aces #assumes all aces are 1's for initial calculation\n",
    "    \n",
    "    hand.sort(reverse=True) #sorts all aces to back of array\n",
    "    for card in hand[:len(hand)-num_aces]: #iterates through list without aces\n",
    "        hand_value += cards[card] #calculates hand value pre-aces\n",
    "    \n",
    "    for i in range(num_aces+1): #iterates +1 in case there is only 1 ace\n",
    "        if hand_value + ((i*11) + (num_aces-i)) <= 21: #checks combinations of 11s and 1s\n",
    "            aces_value = (i*11) + (num_aces-i) #sets combination of 11s and 1s if not a bust\n",
    "        else: #breaks out of loop once the maximum 11s:1s ratio is found\n",
    "            break\n",
    "        \n",
    "    hand_value += aces_value\n",
    "    \n",
    "    if hand_value > 21:\n",
    "        return -1 #-1 is read as a bust when returned\n",
    "    else:\n",
    "        return hand_value"
   ]
  },
  {
   "cell_type": "code",
   "execution_count": 4,
   "metadata": {},
   "outputs": [],
   "source": [
    "def PlayBlackjack():\n",
    "    '''\n",
    "    Plays blackjack\n",
    "    \n",
    "    No parameters or returns. This is a self-contained method\n",
    "    that plays blackjack with while loops for user input.\n",
    "    '''\n",
    "    \n",
    "    #verbose statement\n",
    "    print('Creating shoe...')\n",
    "    \n",
    "    #####################################################################\n",
    "    deck = blackjack.CreateDeck() #Remove blackjack. once copied into blackjack.py\n",
    "    #####################################################################\n",
    "    shoe_obj = shoe.Shoe()\n",
    "    \n",
    "    \n",
    "    playing = True\n",
    "    while playing:\n",
    "        #checks to see if shoe in the shoe class is empty\n",
    "        #if empty, it will create a new shoe\n",
    "        if len(shoe_obj._shoe) == 0:\n",
    "            #verbose statement\n",
    "            print('Filling new shoe with cards...')\n",
    "            shoe_obj.CreateShoe(deck)\n",
    "        \n",
    "        in_hand = True\n",
    "        while in_hand:\n",
    "            #verbose statement\n",
    "            print('New hand start!')\n",
    "            \n",
    "            p_hand = {'cards':[],\n",
    "                      'value':0}\n",
    "            d_hand = {'cards':[],\n",
    "                      'shown_value':0,\n",
    "                      'true_value':0}\n",
    "            \n",
    "            print('Initial draw...')\n",
    "            \n",
    "            #draws first 4 cards\n",
    "            #TODO\n",
    "            #create a list of player dictionaries and iterate through\n",
    "            #rather than hard-code the number of draws to make\n",
    "            for _ in range(2):\n",
    "                p_hand['cards'].append(shoe_obj.DrawCard())\n",
    "                \n",
    "                d_hand['cards'].append(shoe_obj.DrawCard())\n",
    "                \n",
    "            p_hand['value'] = blackjack.GetHandValue(p_hand['cards'])\n",
    "            \n",
    "            #need to give GetHandValue a list, hence the brackets\n",
    "            d_hand['shown_value'] = blackjack.GetHandValue([d_hand['cards'][0]])\n",
    "            d_hand['true_value'] = blackjack.GetHandValue(d_hand['cards'])\n",
    "            \n",
    "            player_acting = True\n",
    "            while player_acting:\n",
    "                print(f\"Players hand: {p_hand['cards']}\\nPlayers hand value: {p_hand['value']}\")\n",
    "                print(f\"Dealers hand: {[d_hand['cards'][0]]}\\nDealers hand value: {d_hand['shown_value']}\")\n",
    "                \n",
    "                input('Test')"
   ]
  },
  {
   "cell_type": "code",
   "execution_count": 5,
   "metadata": {},
   "outputs": [
    {
     "name": "stdout",
     "output_type": "stream",
     "text": [
      "Creating shoe...\n",
      "Filling new shoe with cards...\n",
      "Shuffling 6 decks into shoe...\n",
      "Cutting...\n",
      "Burning first card...\n",
      "Drawing card from shoe...\n",
      "Shoe is read to play!\n",
      "New hand start!\n",
      "Initial draw...\n",
      "Drawing card from shoe...\n",
      "Drawing card from shoe...\n",
      "Drawing card from shoe...\n",
      "Drawing card from shoe...\n",
      "Players hand: ['four', 'five']\n",
      "Players hand value: 9\n",
      "Dealers hand: ['nine']\n",
      "Dealers hand value: 9\n"
     ]
    },
    {
     "ename": "KeyboardInterrupt",
     "evalue": "",
     "output_type": "error",
     "traceback": [
      "\u001b[0;31m---------------------------------------------------------------------------\u001b[0m",
      "\u001b[0;31mKeyboardInterrupt\u001b[0m                         Traceback (most recent call last)",
      "\u001b[0;32m~/anaconda3/envs/tensorflow2_latest_p37/lib/python3.7/site-packages/ipykernel/kernelbase.py\u001b[0m in \u001b[0;36m_input_request\u001b[0;34m(self, prompt, ident, parent, password)\u001b[0m\n\u001b[1;32m    883\u001b[0m             \u001b[0;32mtry\u001b[0m\u001b[0;34m:\u001b[0m\u001b[0;34m\u001b[0m\u001b[0;34m\u001b[0m\u001b[0m\n\u001b[0;32m--> 884\u001b[0;31m                 \u001b[0mident\u001b[0m\u001b[0;34m,\u001b[0m \u001b[0mreply\u001b[0m \u001b[0;34m=\u001b[0m \u001b[0mself\u001b[0m\u001b[0;34m.\u001b[0m\u001b[0msession\u001b[0m\u001b[0;34m.\u001b[0m\u001b[0mrecv\u001b[0m\u001b[0;34m(\u001b[0m\u001b[0mself\u001b[0m\u001b[0;34m.\u001b[0m\u001b[0mstdin_socket\u001b[0m\u001b[0;34m,\u001b[0m \u001b[0;36m0\u001b[0m\u001b[0;34m)\u001b[0m\u001b[0;34m\u001b[0m\u001b[0;34m\u001b[0m\u001b[0m\n\u001b[0m\u001b[1;32m    885\u001b[0m             \u001b[0;32mexcept\u001b[0m \u001b[0mException\u001b[0m\u001b[0;34m:\u001b[0m\u001b[0;34m\u001b[0m\u001b[0;34m\u001b[0m\u001b[0m\n",
      "\u001b[0;32m~/anaconda3/envs/tensorflow2_latest_p37/lib/python3.7/site-packages/jupyter_client/session.py\u001b[0m in \u001b[0;36mrecv\u001b[0;34m(self, socket, mode, content, copy)\u001b[0m\n\u001b[1;32m    802\u001b[0m         \u001b[0;32mtry\u001b[0m\u001b[0;34m:\u001b[0m\u001b[0;34m\u001b[0m\u001b[0;34m\u001b[0m\u001b[0m\n\u001b[0;32m--> 803\u001b[0;31m             \u001b[0mmsg_list\u001b[0m \u001b[0;34m=\u001b[0m \u001b[0msocket\u001b[0m\u001b[0;34m.\u001b[0m\u001b[0mrecv_multipart\u001b[0m\u001b[0;34m(\u001b[0m\u001b[0mmode\u001b[0m\u001b[0;34m,\u001b[0m \u001b[0mcopy\u001b[0m\u001b[0;34m=\u001b[0m\u001b[0mcopy\u001b[0m\u001b[0;34m)\u001b[0m\u001b[0;34m\u001b[0m\u001b[0;34m\u001b[0m\u001b[0m\n\u001b[0m\u001b[1;32m    804\u001b[0m         \u001b[0;32mexcept\u001b[0m \u001b[0mzmq\u001b[0m\u001b[0;34m.\u001b[0m\u001b[0mZMQError\u001b[0m \u001b[0;32mas\u001b[0m \u001b[0me\u001b[0m\u001b[0;34m:\u001b[0m\u001b[0;34m\u001b[0m\u001b[0;34m\u001b[0m\u001b[0m\n",
      "\u001b[0;32m~/anaconda3/envs/tensorflow2_latest_p37/lib/python3.7/site-packages/zmq/sugar/socket.py\u001b[0m in \u001b[0;36mrecv_multipart\u001b[0;34m(self, flags, copy, track)\u001b[0m\n\u001b[1;32m    474\u001b[0m         \"\"\"\n\u001b[0;32m--> 475\u001b[0;31m         \u001b[0mparts\u001b[0m \u001b[0;34m=\u001b[0m \u001b[0;34m[\u001b[0m\u001b[0mself\u001b[0m\u001b[0;34m.\u001b[0m\u001b[0mrecv\u001b[0m\u001b[0;34m(\u001b[0m\u001b[0mflags\u001b[0m\u001b[0;34m,\u001b[0m \u001b[0mcopy\u001b[0m\u001b[0;34m=\u001b[0m\u001b[0mcopy\u001b[0m\u001b[0;34m,\u001b[0m \u001b[0mtrack\u001b[0m\u001b[0;34m=\u001b[0m\u001b[0mtrack\u001b[0m\u001b[0;34m)\u001b[0m\u001b[0;34m]\u001b[0m\u001b[0;34m\u001b[0m\u001b[0;34m\u001b[0m\u001b[0m\n\u001b[0m\u001b[1;32m    476\u001b[0m         \u001b[0;31m# have first part already, only loop while more to receive\u001b[0m\u001b[0;34m\u001b[0m\u001b[0;34m\u001b[0m\u001b[0;34m\u001b[0m\u001b[0m\n",
      "\u001b[0;32mzmq/backend/cython/socket.pyx\u001b[0m in \u001b[0;36mzmq.backend.cython.socket.Socket.recv\u001b[0;34m()\u001b[0m\n",
      "\u001b[0;32mzmq/backend/cython/socket.pyx\u001b[0m in \u001b[0;36mzmq.backend.cython.socket.Socket.recv\u001b[0;34m()\u001b[0m\n",
      "\u001b[0;32mzmq/backend/cython/socket.pyx\u001b[0m in \u001b[0;36mzmq.backend.cython.socket._recv_copy\u001b[0;34m()\u001b[0m\n",
      "\u001b[0;32m~/anaconda3/envs/tensorflow2_latest_p37/lib/python3.7/site-packages/zmq/backend/cython/checkrc.pxd\u001b[0m in \u001b[0;36mzmq.backend.cython.checkrc._check_rc\u001b[0;34m()\u001b[0m\n",
      "\u001b[0;31mKeyboardInterrupt\u001b[0m: ",
      "\nDuring handling of the above exception, another exception occurred:\n",
      "\u001b[0;31mKeyboardInterrupt\u001b[0m                         Traceback (most recent call last)",
      "\u001b[0;32m<ipython-input-5-5b9640973517>\u001b[0m in \u001b[0;36m<module>\u001b[0;34m\u001b[0m\n\u001b[0;32m----> 1\u001b[0;31m \u001b[0mPlayBlackjack\u001b[0m\u001b[0;34m(\u001b[0m\u001b[0;34m)\u001b[0m\u001b[0;34m\u001b[0m\u001b[0;34m\u001b[0m\u001b[0m\n\u001b[0m",
      "\u001b[0;32m<ipython-input-4-f413d4467dd3>\u001b[0m in \u001b[0;36mPlayBlackjack\u001b[0;34m()\u001b[0m\n\u001b[1;32m     58\u001b[0m                 \u001b[0mprint\u001b[0m\u001b[0;34m(\u001b[0m\u001b[0;34mf\"Dealers hand: {[d_hand['cards'][0]]}\\nDealers hand value: {d_hand['shown_value']}\"\u001b[0m\u001b[0;34m)\u001b[0m\u001b[0;34m\u001b[0m\u001b[0;34m\u001b[0m\u001b[0m\n\u001b[1;32m     59\u001b[0m \u001b[0;34m\u001b[0m\u001b[0m\n\u001b[0;32m---> 60\u001b[0;31m                 \u001b[0minput\u001b[0m\u001b[0;34m(\u001b[0m\u001b[0;34m'Test'\u001b[0m\u001b[0;34m)\u001b[0m\u001b[0;34m\u001b[0m\u001b[0;34m\u001b[0m\u001b[0m\n\u001b[0m",
      "\u001b[0;32m~/anaconda3/envs/tensorflow2_latest_p37/lib/python3.7/site-packages/ipykernel/kernelbase.py\u001b[0m in \u001b[0;36mraw_input\u001b[0;34m(self, prompt)\u001b[0m\n\u001b[1;32m    857\u001b[0m             \u001b[0mself\u001b[0m\u001b[0;34m.\u001b[0m\u001b[0m_parent_ident\u001b[0m\u001b[0;34m,\u001b[0m\u001b[0;34m\u001b[0m\u001b[0;34m\u001b[0m\u001b[0m\n\u001b[1;32m    858\u001b[0m             \u001b[0mself\u001b[0m\u001b[0;34m.\u001b[0m\u001b[0m_parent_header\u001b[0m\u001b[0;34m,\u001b[0m\u001b[0;34m\u001b[0m\u001b[0;34m\u001b[0m\u001b[0m\n\u001b[0;32m--> 859\u001b[0;31m             \u001b[0mpassword\u001b[0m\u001b[0;34m=\u001b[0m\u001b[0;32mFalse\u001b[0m\u001b[0;34m,\u001b[0m\u001b[0;34m\u001b[0m\u001b[0;34m\u001b[0m\u001b[0m\n\u001b[0m\u001b[1;32m    860\u001b[0m         )\n\u001b[1;32m    861\u001b[0m \u001b[0;34m\u001b[0m\u001b[0m\n",
      "\u001b[0;32m~/anaconda3/envs/tensorflow2_latest_p37/lib/python3.7/site-packages/ipykernel/kernelbase.py\u001b[0m in \u001b[0;36m_input_request\u001b[0;34m(self, prompt, ident, parent, password)\u001b[0m\n\u001b[1;32m    887\u001b[0m             \u001b[0;32mexcept\u001b[0m \u001b[0mKeyboardInterrupt\u001b[0m\u001b[0;34m:\u001b[0m\u001b[0;34m\u001b[0m\u001b[0;34m\u001b[0m\u001b[0m\n\u001b[1;32m    888\u001b[0m                 \u001b[0;31m# re-raise KeyboardInterrupt, to truncate traceback\u001b[0m\u001b[0;34m\u001b[0m\u001b[0;34m\u001b[0m\u001b[0;34m\u001b[0m\u001b[0m\n\u001b[0;32m--> 889\u001b[0;31m                 \u001b[0;32mraise\u001b[0m \u001b[0mKeyboardInterrupt\u001b[0m\u001b[0;34m\u001b[0m\u001b[0;34m\u001b[0m\u001b[0m\n\u001b[0m\u001b[1;32m    890\u001b[0m             \u001b[0;32melse\u001b[0m\u001b[0;34m:\u001b[0m\u001b[0;34m\u001b[0m\u001b[0;34m\u001b[0m\u001b[0m\n\u001b[1;32m    891\u001b[0m                 \u001b[0;32mbreak\u001b[0m\u001b[0;34m\u001b[0m\u001b[0;34m\u001b[0m\u001b[0m\n",
      "\u001b[0;31mKeyboardInterrupt\u001b[0m: "
     ]
    },
    {
     "name": "stdin",
     "output_type": "stream",
     "text": [
      "Test i\n"
     ]
    }
   ],
   "source": [
    "PlayBlackjack()"
   ]
  },
  {
   "cell_type": "code",
   "execution_count": null,
   "metadata": {},
   "outputs": [],
   "source": []
  }
 ],
 "metadata": {
  "kernelspec": {
   "display_name": "Environment (conda_tensorflow2_latest_p37)",
   "language": "python",
   "name": "conda_tensorflow2_latest_p37"
  },
  "language_info": {
   "codemirror_mode": {
    "name": "ipython",
    "version": 3
   },
   "file_extension": ".py",
   "mimetype": "text/x-python",
   "name": "python",
   "nbconvert_exporter": "python",
   "pygments_lexer": "ipython3",
   "version": "3.7.6"
  }
 },
 "nbformat": 4,
 "nbformat_minor": 4
}
