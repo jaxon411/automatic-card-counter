{
 "cells": [
  {
   "cell_type": "code",
   "execution_count": 1,
   "metadata": {},
   "outputs": [],
   "source": [
    "import numpy as np\n",
    "from numpy import random\n",
    "import matplotlib.pyplot as plt\n",
    "import pandas as pd\n",
    "import shoe\n",
    "import blackjack\n",
    "import player"
   ]
  },
  {
   "cell_type": "code",
   "execution_count": 35,
   "metadata": {
    "jupyter": {
     "source_hidden": true
    }
   },
   "outputs": [],
   "source": [
    "#DEPRICATED\n",
    "#cards DICTIONARY IS NOW STORED IN blackjack.py\n",
    "#Dictionary of Blackjack Cards\n",
    "cards = {'two':2,\n",
    "        'three':3,\n",
    "        'four':4,\n",
    "        'five':5,\n",
    "        'six':6,\n",
    "        'seven':7,\n",
    "        'eight':8,\n",
    "        'nine':9,\n",
    "        'ten':10,\n",
    "        'jack':10,\n",
    "        'queen':10,\n",
    "        'king':10,\n",
    "        'ace':[11,1]}"
   ]
  },
  {
   "cell_type": "code",
   "execution_count": 8,
   "metadata": {
    "jupyter": {
     "source_hidden": true
    }
   },
   "outputs": [],
   "source": [
    "#DEPRICATED\n",
    "#CreateDeck METHOD IS NOW IN blackjack.py\n",
    "def CreateDeckOLD():\n",
    "    #RETURNS: deck - list of str of cards making a standard 52 card deck\n",
    "    deck = list(cards.keys())*4\n",
    "#     random.shuffle(deck) #inplace shuffle\n",
    "    \n",
    "    return deck"
   ]
  },
  {
   "cell_type": "code",
   "execution_count": 21,
   "metadata": {
    "collapsed": true,
    "jupyter": {
     "outputs_hidden": true,
     "source_hidden": true
    }
   },
   "outputs": [
    {
     "name": "stdout",
     "output_type": "stream",
     "text": [
      "2 deck cut boundaries: 0.09615384615384616 to 0.14423076923076922\n",
      "6 deck cut boundaries: 0.16666666666666666 to 0.25\n",
      "Dealer always penetrates at a range of 1 to 1.5 decks from the back, or 0.16666666666666666 to 0.25\n"
     ]
    }
   ],
   "source": [
    "print(f'2 deck cut boundaries: {10/(52*2)} to {15/(52*2)}')\n",
    "print(f'6 deck cut boundaries: {52/(52*6)} to {78/(52*6)}')\n",
    "print(f'Dealer always penetrates at a range of 1 to 1.5 decks from the back, or {52/(52*6)} to {78/(52*6)}')"
   ]
  },
  {
   "cell_type": "code",
   "execution_count": 18,
   "metadata": {
    "jupyter": {
     "source_hidden": true
    }
   },
   "outputs": [],
   "source": [
    "#DEPRICATED\n",
    "#UPDATED VERSION IN shoe.py\n",
    "\n",
    "def CreateShoeOLD(deck,shoe_size = 6):\n",
    "    '''\n",
    "    PARAMETERS:\n",
    "    shoe_size - int of number of decks in shoe\n",
    "\n",
    "    RETURNS:\n",
    "    tuple - list of [shoe_size * deck] cards minus random penetration\n",
    "            and\n",
    "            list of cards equal to penetration (reserve cards for dealing last hand)\n",
    "    '''\n",
    "\n",
    "    if shoe_size > 2:\n",
    "        pen_range = [(52/(52*shoe_size)), ((52*1.5)/(52*shoe_size))]\n",
    "    else:\n",
    "        #single and double deck penetrate from 10 to 15 cards\n",
    "        pen_range = [10/(52*shoe_size), 15/(52*shoe_size)]\n",
    "\n",
    "    #ensures that each deck added to the shoe is shuffled\n",
    "    #this might just be gamblers superstition on my part...\n",
    "    shoe = []\n",
    "    for _ in range(shoe_size):\n",
    "        random.shuffle(deck)\n",
    "        shoe += deck\n",
    "        \n",
    "    random.shuffle(shoe) #in-place shuffle\n",
    "    \n",
    "    #generates penetration at a random specific card based on pen_range\n",
    "    penetration = round(len(shoe)*random.uniform(pen_range[0],pen_range[1]))\n",
    "    #generates playbale shoe with cards equal to penetration taken out\n",
    "    \n",
    "    return shoe[:-penetration],shoe[-penetration:]"
   ]
  },
  {
   "cell_type": "code",
   "execution_count": 2,
   "metadata": {
    "jupyter": {
     "source_hidden": true
    }
   },
   "outputs": [],
   "source": [
    "#DEPRICATED\n",
    "#HandAction IS NOW A METHOD IN blackjack.py\n",
    "def HandActionAutomated(shoe_obj,current_player,d_hand=None):\n",
    "    '''\n",
    "    Case statement of blackjack plays.\n",
    "    1=Stand, 2=Hit, 3=Double Down, 4= Split, 5=Surrender\n",
    "    \n",
    "    PARAMETERS:\n",
    "    shoe_obj = current shoe being drawn from\n",
    "    current_player = Player object of current player containing hand(s) and bankroll\n",
    "    dealer = dictionary of dealers hand (only needed for automated blackjack)\n",
    "    '''\n",
    "    \n",
    "    maxsplit = False #bool to check if maximum splits are reached so this doesn't loop forever\n",
    "    \n",
    "    for hand in current_player.GetHands():        \n",
    "        #flag to tell when to stop prompting for current hand\n",
    "        acting = True\n",
    "        while acting:\n",
    "            \n",
    "            #assumes you're splitting, every other option turns this off\n",
    "            splitting = True\n",
    "            while splitting:\n",
    "                \n",
    "                _input = GetInput(hand,d_hand,maxsplit)\n",
    "                \n",
    "                if _input == 1:\n",
    "                    #stand\n",
    "                    acting = False\n",
    "                    splitting = False\n",
    "\n",
    "                elif _input == 2:\n",
    "                    #hit\n",
    "                    current_player.AddCard(hand,shoe_obj.DrawCard())\n",
    "                    acting = True\n",
    "                    splitting = False\n",
    "\n",
    "                elif _input == 3:\n",
    "                    #double down\n",
    "                    hand['bet'] *= 2\n",
    "                    current_player.AddCard(hand,shoe_obj.DrawCard())\n",
    "                    acting = False\n",
    "                    splitting = False\n",
    "\n",
    "                elif _input == 4:\n",
    "                    #split\n",
    "                    if len(hand['cards']) > 2 or blackjack.cards[hand['cards'][0]] != blackjack.cards[hand['cards'][1]]: #REMOVE blackjack. WHEN IN blackjack.py\n",
    "                        print('FAILSAFE: TRYING TO SPLIT NON-PAIRS')\n",
    "                        maxsplit = True\n",
    "            \n",
    "                    elif len(current_player.hands) == 4 and maxsplit == False: #check if maximum splits have been reached\n",
    "#                         print('You can only split 3 times.')\n",
    "                        maxsplit = True #flip maxsplit bool so this doesn't loop forever\n",
    "                        \n",
    "                    else:\n",
    "                        #splits hand into two hands, but WON'T interate to the next one until splitting = False\n",
    "                        current_player.AddHand([hand['cards'][0],shoe_obj.DrawCard()],hand['bet']) #adding the hand['bet'] effectively doubles the bet\n",
    "                        hand['cards'] = [hand['cards'][1]] #since only ['cards'] and ['value'] gets edited in the original hand, ['bet'] is retained\n",
    "                        current_player.AddCard(hand,shoe_obj.DrawCard())\n",
    "\n",
    "                elif _input == 5:\n",
    "                    #surrender\n",
    "                    hand['bet'] = hand['bet']/2\n",
    "                    hand['value'] = 22\n",
    "#                     print('Surrender (hand value will be set to 22)')\n",
    "                    acting = False\n",
    "                    splitting = False\n",
    "\n",
    "                else:\n",
    "                    #invalid input\n",
    "                    print('Please select a valid input.')\n",
    "                    print(_input)\n",
    "                    splitting = False\n",
    "\n",
    "                if hand['value'] > 21:\n",
    "                    acting = False\n",
    "                    splitting = False\n",
    "                elif hand['value'] == 21: #automatically stops if value is 21\n",
    "                    acting = False\n",
    "                    splitting = False\n"
   ]
  },
  {
   "cell_type": "code",
   "execution_count": 17,
   "metadata": {
    "jupyter": {
     "source_hidden": true
    }
   },
   "outputs": [],
   "source": [
    "#DEPRICATED\n",
    "#PlayBlackjack IS NOW A METHOD IN blackjack.py\n",
    "def PlayBlackjack():\n",
    "    '''\n",
    "    Plays blackjack\n",
    "    \n",
    "    No parameters or returns. This is a self-contained method\n",
    "    that plays blackjack with while loops for user input and dealer decisions.\n",
    "    '''\n",
    "    \n",
    "    #verbose statement\n",
    "    print('Creating shoe...')\n",
    "    \n",
    "    #####################################################################\n",
    "    deck = blackjack.CreateDeck() #Remove blackjack. once copied into blackjack.py\n",
    "    #####################################################################\n",
    "    shoe_obj = shoe.Shoe()\n",
    "    \n",
    "    #creates player object with bankroll\n",
    "    bankroll = 5000\n",
    "    player_obj = player.Player(bankroll)\n",
    "    dealer_obj = player.Player()\n",
    "    \n",
    "    playing = True\n",
    "    while playing:\n",
    "        #checks to see if shoe in the shoe class is empty\n",
    "        #if empty, it will create a new shoe\n",
    "        ### ONLY UNCOMMENT WHEN LOOP ISN'T INFINITE ###\n",
    "        if len(shoe_obj._shoe) == 0:\n",
    "            #verbose statement\n",
    "            print('Creating new shoe...')\n",
    "            shoe_obj.CreateShoe(deck)\n",
    "        \n",
    "        #verbose statement\n",
    "        print('New hand start!')\n",
    "        #removes all hands from previous rounds\n",
    "        player_obj.ResetHands()\n",
    "        dealer_obj.ResetHands()\n",
    "        \n",
    "        print('Initial draw...')\n",
    "        \n",
    "        player_obj.AddHand([shoe_obj.DrawCard(),shoe_obj.DrawCard()],5)\n",
    "        dealer_obj.AddHand([shoe_obj.DrawCard(),shoe_obj.DrawCard()],5)\n",
    "        \n",
    "        p_hand = player_obj.GetHands()[0] #gets 0th hand because we only have 1 hand right now\n",
    "        d_hand = dealer_obj.GetHands()[0]\n",
    "\n",
    "        print(f\"Players hand: {p_hand['cards']}\\nPlayers hand value: {p_hand['value']}\")\n",
    "        print(f\"Dealers hand: {[d_hand['cards'][0]]}\\nDealers hand value: {d_hand['shown_value']}\")    \n",
    "\n",
    "        player_acting = True #for while loop below if block\n",
    "        '''\n",
    "        Below is a huge block of if statements that are checking\n",
    "        for player and dealer blackjack cases.\n",
    "        '''\n",
    "        if p_hand['value'] == 21:\n",
    "            print('Blackjack!')\n",
    "            \n",
    "            if d_hand['shown_value'] == 11:\n",
    "                even_money = input('Take even money? (y/n)\\n')\n",
    "                if even_money == 'y':\n",
    "                    print(f\"Player wins {p_hand['bet']}!\")\n",
    "                    player_obj.bankroll += _hand['bet']\n",
    "                    player_obj.ResetHands()\n",
    "                    player_acting = False\n",
    "                else:\n",
    "                    print(\"We're playing!\")\n",
    "                    if d_hand['value'] == 21:\n",
    "                        print(\"Dealer also has blackjack.\\nPlayer pushes.\")\n",
    "                        player_obj.ResetHands()\n",
    "                        player_acting = False\n",
    "            else:\n",
    "                print(f\"Player wins {p_hand['bet']*1.5}!\")\n",
    "                player_obj.bankroll += (_hand['bet']*1.5)\n",
    "                player_obj.ResetHands()\n",
    "                player_acting = False\n",
    "            \n",
    "        if d_hand['shown_value'] == 11 and p_hand['value'] != 21:\n",
    "            insurance = input('Insurance? (y/n) ')\n",
    "            \n",
    "            if d_hand['value'] == 21:\n",
    "                print(f'Dealer has blackjack with {d_hand[\"cards\"]}')\n",
    "                \n",
    "                if insurance == 'y':\n",
    "                    print(\"Player has insurance. Bet is lost, but insurance covers it.\")\n",
    "                    #since insurance is effectively a push, nothing happens.\n",
    "                    player_obj.ResetHands()\n",
    "                else:\n",
    "                    print(\"Player does not have insurance.\")\n",
    "                    player_obj.bankroll -= _hand['bet']\n",
    "                    player_obj.ResetHands()\n",
    "                    \n",
    "                player_acting = False\n",
    "                \n",
    "            else:\n",
    "                print('Dealer does not have blackjack!')\n",
    "                player_acting = True\n",
    "        '''\n",
    "        End of blackjack-checking if statements.\n",
    "        '''\n",
    "\n",
    "        '''\n",
    "        Player decisions\n",
    "        '''\n",
    "        if player_acting:\n",
    "            HandAction(shoe_obj,player_obj)\n",
    "        \n",
    "        '''\n",
    "        Dealer decisions\n",
    "        '''\n",
    "        #if player busted out all their hands, dealer doesn't play\n",
    "        #this for loop checks for any unbusted player hands\n",
    "        #if blackjack/insurance/dealer blackjack has occurred, player_obj.GetHands() returns an empty list\n",
    "        dealer_acting = False\n",
    "        for _hand in player_obj.GetHands():\n",
    "            if player_acting and _hand['value'] < 22:\n",
    "                dealer_acting = True\n",
    "                ##############################\n",
    "                #COUNT DEALERS DOWN CARD HERE\n",
    "                ##############################\n",
    "            \n",
    "        while dealer_acting:\n",
    "            print(f\"Dealers hand: {d_hand['cards']}\\nDealers hand value: {d_hand['value']}\")\n",
    "            \n",
    "            d_hand = dealer_obj.GetHands()[0]\n",
    "            if d_hand['value'] == 17 and 'ace' in d_hand['cards']:\n",
    "                #hit soft 17\n",
    "                print('Dealer hits soft 17')\n",
    "                dealer_obj.AddCard(d_hand,shoe_obj.DrawCard())\n",
    "                \n",
    "            elif d_hand['value'] < 17:\n",
    "                #hit\n",
    "                print('Dealer Hits')\n",
    "                dealer_obj.AddCard(d_hand,shoe_obj.DrawCard())\n",
    "                \n",
    "            else:\n",
    "                #stand\n",
    "                print(f\"Dealers hand: {d_hand['cards']}\\nDealers hand value: {d_hand['value']}\")\n",
    "                print('Dealer Stands')\n",
    "                dealer_acting = False\n",
    "        \n",
    "            if d_hand['value'] > 21:\n",
    "                print(f\"Dealers hand: {d_hand['cards']}\\nDealers hand value: {d_hand['value']}\")\n",
    "                print('Dealer bust!')\n",
    "                dealer_acting = False\n",
    "        \n",
    "        '''\n",
    "        Payout block\n",
    "        '''\n",
    "        #if blackjack/insurance/dealer blackjack has occurred, player_obj.GetHands() returns an empty list\n",
    "        for _hand in player_obj.GetHands():\n",
    "            if _hand['value'] < 22 and d_hand['value'] > 21:\n",
    "                print(f\"Player has {_hand['cards']} ({_hand['value']}).\")\n",
    "                print(f\"Player wins ${_hand['bet']} from dealer bust!\")\n",
    "                player_obj.bankroll += _hand['bet']\n",
    "\n",
    "            elif _hand['value'] < 22 and _hand['value'] > d_hand['value']:\n",
    "                print(f\"{_hand['cards']} ({_hand['value']}) wins!\")\n",
    "                print(f\"Player wins ${_hand['bet']}!\")\n",
    "                player_obj.bankroll += _hand['bet']\n",
    "\n",
    "            elif _hand['value'] == d_hand['value']:\n",
    "                print(f\"Player's {_hand['cards']} ({_hand['value']}) pushes with Dealer's {d_hand['cards']} ({d_hand['value']}).\")\n",
    "            \n",
    "            else:\n",
    "                print(f\"Player loses ${_hand['bet']}\")\n",
    "                player_obj.bankroll -= _hand['bet']\n",
    "            \n",
    "        if player_obj.bankroll < 1:\n",
    "            print('OUT OF MONEY')\n",
    "            playing = False        \n",
    "        elif input('Continue playing? (y/n)') == 'n':\n",
    "            playing = False\n",
    "    "
   ]
  },
  {
   "cell_type": "code",
   "execution_count": 2,
   "metadata": {
    "collapsed": true,
    "jupyter": {
     "outputs_hidden": true,
     "source_hidden": true
    }
   },
   "outputs": [
    {
     "name": "stdout",
     "output_type": "stream",
     "text": [
      "Creating shoe...\n",
      "Player created with bankroll of $5000\n",
      "Shuffling 6 decks into shoe...\n",
      "Cutting...\n",
      "Burning first card...\n",
      "Shoe is read to play!\n",
      "New hand start!\n",
      "Initial draw...\n",
      "Players hand: ['two', 'queen']\n",
      "Players hand value: 12\n",
      "Dealers hand: ['jack']\n",
      "Dealers hand value: 10\n"
     ]
    },
    {
     "ename": "TypeError",
     "evalue": "'module' object is not callable",
     "output_type": "error",
     "traceback": [
      "\u001b[0;31m---------------------------------------------------------------------------\u001b[0m",
      "\u001b[0;31mTypeError\u001b[0m                                 Traceback (most recent call last)",
      "\u001b[0;32m<ipython-input-2-18bc410b0cd3>\u001b[0m in \u001b[0;36m<module>\u001b[0;34m\u001b[0m\n\u001b[0;32m----> 1\u001b[0;31m \u001b[0mblackjack\u001b[0m\u001b[0;34m.\u001b[0m\u001b[0mPlayBlackjack\u001b[0m\u001b[0;34m(\u001b[0m\u001b[0;36m5000\u001b[0m\u001b[0;34m,\u001b[0m\u001b[0;36m5\u001b[0m\u001b[0;34m)\u001b[0m\u001b[0;34m\u001b[0m\u001b[0;34m\u001b[0m\u001b[0m\n\u001b[0m",
      "\u001b[0;32m~/repos/automatic-card-counter/blackjack/blackjack.py\u001b[0m in \u001b[0;36mPlayBlackjack\u001b[0;34m(bankroll, betsize)\u001b[0m\n\u001b[1;32m    238\u001b[0m \u001b[0;34m\u001b[0m\u001b[0m\n\u001b[1;32m    239\u001b[0m         \u001b[0;32mif\u001b[0m \u001b[0md_hand\u001b[0m\u001b[0;34m[\u001b[0m\u001b[0;34m'shown_value'\u001b[0m\u001b[0;34m]\u001b[0m \u001b[0;34m==\u001b[0m \u001b[0;36m10\u001b[0m \u001b[0;32mand\u001b[0m \u001b[0md_hand\u001b[0m\u001b[0;34m[\u001b[0m\u001b[0;34m'value'\u001b[0m\u001b[0;34m]\u001b[0m \u001b[0;34m!=\u001b[0m \u001b[0;36m21\u001b[0m\u001b[0;34m:\u001b[0m\u001b[0;34m\u001b[0m\u001b[0;34m\u001b[0m\u001b[0m\n\u001b[0;32m--> 240\u001b[0;31m             \u001b[0mplayer\u001b[0m\u001b[0;34m(\u001b[0m\u001b[0;34m'Dealaer does not have blackjack.'\u001b[0m\u001b[0;34m)\u001b[0m\u001b[0;34m\u001b[0m\u001b[0;34m\u001b[0m\u001b[0m\n\u001b[0m\u001b[1;32m    241\u001b[0m \u001b[0;34m\u001b[0m\u001b[0m\n\u001b[1;32m    242\u001b[0m         \u001b[0;32mif\u001b[0m \u001b[0md_hand\u001b[0m\u001b[0;34m[\u001b[0m\u001b[0;34m'shown_value'\u001b[0m\u001b[0;34m]\u001b[0m \u001b[0;34m==\u001b[0m \u001b[0;36m11\u001b[0m \u001b[0;32mand\u001b[0m \u001b[0mp_hand\u001b[0m\u001b[0;34m[\u001b[0m\u001b[0;34m'value'\u001b[0m\u001b[0;34m]\u001b[0m \u001b[0;34m!=\u001b[0m \u001b[0;36m21\u001b[0m\u001b[0;34m:\u001b[0m\u001b[0;34m\u001b[0m\u001b[0;34m\u001b[0m\u001b[0m\n",
      "\u001b[0;31mTypeError\u001b[0m: 'module' object is not callable"
     ]
    }
   ],
   "source": [
    "blackjack.PlayBlackjack(5000,5)"
   ]
  },
  {
   "cell_type": "code",
   "execution_count": 3,
   "metadata": {
    "jupyter": {
     "source_hidden": true
    }
   },
   "outputs": [],
   "source": [
    "#DEPRICATED\n",
    "#HandAction IS NOW A METHOD IN blackjack.py\n",
    "def GetInput(p_hand,d_hand,maxsplit):\n",
    "    '''\n",
    "    Gets the input int to feed into HandAction\n",
    "    \n",
    "    PARAMETERS:\n",
    "    p_hand = dictionary; players hand\n",
    "    d_hand = dictionary; dealers hand\n",
    "    \n",
    "    RETURNS:\n",
    "    int corresponding to: 1=Stand, 2=Hit, 3=Double Down, 4= Split, 5=Surrender\n",
    "    '''\n",
    "    strategy = {}\n",
    "    #1=Stand, 2=Hit, 3=Double Down, 4= Split, 5=Surrender\n",
    "    #The None values are to buffer indexes so that the indexes match dealer hand values\n",
    "    #i.e. 2-11 values are indexes 2-11 respectively\n",
    "    #Dealers hand: None,None,2,3,4,5,6,7,8,9,10,A\n",
    "    strategy_basic = {4:[None,None,2,2,2,2,2,2,2,2,2,2],#in case of of maxsplit\n",
    "            5:[None,None,2,2,2,2,2,2,2,2,2,2],\n",
    "            6:[None,None,2,2,2,2,2,2,2,2,2,2],\n",
    "            7:[None,None,2,2,2,2,2,2,2,2,2,2],\n",
    "            8:[None,None,2,2,2,2,2,2,2,2,2,2],\n",
    "            9:[None,None,2,3,3,3,3,2,2,2,2,2],\n",
    "            10:[None,None,3,3,3,3,3,3,3,3,2,2],\n",
    "            11:[None,None,3,3,3,3,3,3,3,3,3,3],\n",
    "            12:[None,None,2,2,1,1,1,2,2,2,2,2],\n",
    "            13:[None,None,1,1,1,1,1,2,2,2,2,2],\n",
    "            14:[None,None,1,1,1,1,1,2,2,2,2,2],\n",
    "            15:[None,None,1,1,1,1,1,2,2,2,5,5],\n",
    "            16:[None,None,1,1,1,1,1,2,2,5,5,5],\n",
    "            17:[None,None,1,1,1,1,1,1,1,1,1,5],\n",
    "            18:[None,None,1,1,1,1,1,1,1,1,1,5],\n",
    "            19:[None,None,1,1,1,1,1,1,1,1,1,5],\n",
    "            20:[None,None,1,1,1,1,1,1,1,1,1,5],\n",
    "            21:[None,None,1,1,1,1,1,1,1,1,1,1]}\n",
    "\n",
    "    strategy_ace = {12:[None,None,2,2,2,3,3,2,2,2,2,2],#in case of of maxsplit\n",
    "                    13:[None,None,2,2,2,3,3,2,2,2,2,2],\n",
    "                    14:[None,None,2,2,2,3,3,2,2,2,2,2],\n",
    "                    15:[None,None,2,2,3,3,3,2,2,2,2,2],\n",
    "                    16:[None,None,2,2,3,3,3,2,2,2,2,2],\n",
    "                    17:[None,None,2,3,3,3,3,1,1,2,2,2],\n",
    "                    18:[None,None,1,1,1,1,3,1,1,1,1,1],\n",
    "                    19:[None,None,1,1,1,1,1,1,1,1,1,1],\n",
    "                    20:[None,None,1,1,1,1,1,1,1,1,1,1],\n",
    "                    21:[None,None,1,1,1,1,1,1,1,1,1,1]}\n",
    "\n",
    "    strategy_pair = {'AA':[None,None,4,4,4,4,4,4,4,4,4,4], #pair of aces\n",
    "                     20:[None,None,1,1,1,1,1,1,1,1,1,1],\n",
    "                     18:[None,None,4,4,4,4,4,1,4,4,1,1],\n",
    "                     16:[None,None,4,4,4,4,4,4,4,4,4,5],\n",
    "                     14:[None,None,4,4,4,4,4,4,2,2,2,2],\n",
    "                     12:[None,None,4,4,4,4,4,2,2,2,2,2],\n",
    "                     10:[None,None,3,3,3,3,3,3,3,3,2,2],\n",
    "                     8:[None,None,2,2,2,4,4,2,2,2,2,2],\n",
    "                     6:[None,None,4,4,4,4,4,4,2,2,2,2],\n",
    "                     4:[None,None,4,4,4,4,4,4,2,2,2,2]}\n",
    "    \n",
    "    strategy_key = p_hand['value']\n",
    "    strategy_text = '' #uncomment for debugging\n",
    "    if p_hand['cards'][0] == p_hand['cards'][1] and len(p_hand['cards']) == 2 and maxsplit == False:\n",
    "        strategy = strategy_pair.copy()\n",
    "        strategy_text = 'Pair Strat' #uncomment for debugging\n",
    "        if 'ace' in p_hand['cards']:\n",
    "            strategy_key = 'AA'\n",
    "    elif blackjack.CheckAces(p_hand['cards']): #checks if aces can still be 11s. if not, it's treated as a non-ace hand\n",
    "        strategy = strategy_ace.copy()\n",
    "        strategy_text = 'Ace Strat' #uncomment for debugging\n",
    "    else:\n",
    "        strategy = strategy_basic.copy()\n",
    "        strategy_text = 'Basic Strat' #uncomment for debugging\n",
    "        \n",
    "        #uncomment for debugging\n",
    "#     try:\n",
    "#         strategy[strategy_key][d_hand['shown_value']]\n",
    "#     except:\n",
    "#         print(f'Player: {p_hand}')\n",
    "#         print(f'Dealer: {d_hand}')\n",
    "#         print(f'Key: {strategy_key}')\n",
    "#         print(f'Maxsplit: {maxsplit}')\n",
    "#         print(strategy_text)\n",
    "#         print(strategy)\n",
    "    \n",
    "    return strategy[strategy_key][d_hand['shown_value']]"
   ]
  },
  {
   "cell_type": "code",
   "execution_count": 36,
   "metadata": {
    "jupyter": {
     "source_hidden": true
    }
   },
   "outputs": [],
   "source": [
    "#DEPRICATED\n",
    "#HandAction IS NOW A METHOD IN blackjack.py\n",
    "def AutomatedBlackjack(nhands,counting,bankroll,even_money=False,insurance=False,betsize=5):\n",
    "    '''\n",
    "    Plays automated blackjack\n",
    "    \n",
    "    PARAMETERS:\n",
    "    nhands = int of number of hands to play and record\n",
    "    counting = boolean to turn card counting on (True) or off (False)\n",
    "    bankroll = float of players current dollar count\n",
    "    betsize = int of the baseline bet a player will make every hand\n",
    "    \n",
    "    RETURNS:\n",
    "    bank_history = a numpy array of the players bankroll every hand\n",
    "    WL_history = a numpy array record of the win-loss for every hand (1=win, 0=loss)\n",
    "    bj_history = a numpy array record of player blackjacks for every hand (1=blackjack, 0=not blackjack)\n",
    "    '''\n",
    "\n",
    "    deck = blackjack.CreateDeck()\n",
    "    shoe_obj = shoe.Shoe()\n",
    "    \n",
    "    #creates player object with bankroll\n",
    "    print(f'Player created with bankroll of ${bankroll}')\n",
    "    player_obj = player.Player(bankroll)\n",
    "    dealer_obj = player.Player()\n",
    "    \n",
    "    bank_history = np.array([player_obj.bankroll])\n",
    "    WL_history = np.zeros(0)\n",
    "    bj_history = np.zeros(0)\n",
    "\n",
    "    print(\"Playing...\")\n",
    "    for i in range(nhands):\n",
    "\n",
    "        \n",
    "        #checks to see if shoe in the shoe class is empty\n",
    "        #if empty, it will create a new shoe\n",
    "        ### ONLY UNCOMMENT WHEN LOOP ISN'T INFINITE ###\n",
    "        if len(shoe_obj._shoe) == 0:\n",
    "            shoe_obj.CreateShoe(deck)\n",
    "        \n",
    "        #removes all hands from previous rounds\n",
    "        player_obj.ResetHands()\n",
    "        dealer_obj.ResetHands()\n",
    "        \n",
    "        player_obj.AddHand([shoe_obj.DrawCard(),shoe_obj.DrawCard()],betsize)\n",
    "        dealer_obj.AddHand([shoe_obj.DrawCard(),shoe_obj.DrawCard()])\n",
    "        \n",
    "        p_hand = player_obj.GetHands()[0] #gets 0th hand because we only have 1 hand right now\n",
    "        d_hand = dealer_obj.GetHands()[0]  \n",
    "\n",
    "        player_acting = True #for while loop below if block\n",
    "        '''\n",
    "        Below is a huge block of if statements that are checking\n",
    "        for player and dealer blackjack cases.\n",
    "        '''\n",
    "        if p_hand['value'] == 21:\n",
    "            #records blackjack history\n",
    "            bj_history = np.append(bj_history,1)\n",
    "            \n",
    "            #checks if dealer has blackjack from an ace up-card and player has blackjack\n",
    "            if d_hand['shown_value'] == 11:\n",
    "#                 even_money = input('Take even money? (y/n)\\n')\n",
    "                if even_money:\n",
    "#                     print(f\"Player wins {p_hand['bet']}!\")\n",
    "                    player_obj.bankroll += _hand['bet']\n",
    "                    player_obj.ResetHands()\n",
    "                    player_acting = False\n",
    "                else:\n",
    "#                     print(\"We're playing!\")\n",
    "                    if d_hand['value'] == 21:\n",
    "#                         print(f\"Dealer also has blackjack with {d_hand['cards']}.\\nPlayer pushes.\")\n",
    "                        player_obj.ResetHands()\n",
    "                        player_acting = False\n",
    "                        \n",
    "            #checks if dealer has blackjack from a 10 up-card and player has blackjack\n",
    "            elif d_hand['value'] == 21:\n",
    "#                 print(f\"Dealer also has blackjack with {d_hand['cards']}.\\nPlayer pushes.\")\n",
    "                player_obj.ResetHands()\n",
    "                player_acting = False\n",
    "            else:\n",
    "#                 print(f\"Player wins {p_hand['bet']*1.5}!\")\n",
    "                player_obj.bankroll += (p_hand['bet']*1.5)\n",
    "                player_obj.ResetHands()\n",
    "                player_acting = False\n",
    "        else:\n",
    "            #records blackjack history\n",
    "            bj_history = np.append(bj_history,0)\n",
    "        \n",
    "        #checks if dealer has blackjack from a 10 up-card but player doesn't have blackjack\n",
    "        if d_hand['shown_value'] == 10 and d_hand['value'] == 21:\n",
    "#             print(f\"Dealer has blackjack with {d_hand['cards']}.\")\n",
    "#             print(f\"Player loses ${p_hand['bet']}.\")\n",
    "            player_obj.bankroll -= p_hand['bet']\n",
    "            player_obj.ResetHands()\n",
    "            player_acting = False\n",
    "        \n",
    "        #checks if dealer has blackjack from an ace up-card and offers player insurance if they don't have blackjack\n",
    "        if d_hand['shown_value'] == 11 and p_hand['value'] != 21:\n",
    "#             insurance = input('Insurance? (y/n) ')\n",
    "    \n",
    "            if d_hand['value'] == 21:\n",
    "#                 print(f'Dealer has blackjack with {d_hand[\"cards\"]}.')\n",
    "                \n",
    "                if insurance:\n",
    "#                     print(\"Player has insurance. Bet is lost, but insurance covers it.\")\n",
    "                    #since insurance is effectively a push, nothing happens.\n",
    "                    player_obj.ResetHands()\n",
    "                else:\n",
    "#                     print(f\"Player loses\")\n",
    "                    player_obj.bankroll -= p_hand['bet']\n",
    "                    player_obj.ResetHands()\n",
    "                    \n",
    "                player_acting = False\n",
    "                \n",
    "            else:\n",
    "#                 print('Dealer does not have blackjack!')\n",
    "                player_acting = True\n",
    "        '''\n",
    "        End of blackjack-checking if statements.\n",
    "        '''\n",
    "\n",
    "        '''\n",
    "        Player decisions\n",
    "        '''\n",
    "        if player_acting:\n",
    "            HandActionAutomated(shoe_obj,player_obj,d_hand)\n",
    "        \n",
    "        '''\n",
    "        Dealer decisions\n",
    "        '''\n",
    "        #if player busted out all their hands, dealer doesn't play\n",
    "        #this for loop checks for any unbusted player hands\n",
    "        #if blackjack/insurance/dealer blackjack has occurred, player_obj.GetHands() returns an empty list\n",
    "        dealer_acting = False\n",
    "        for _hand in player_obj.GetHands():\n",
    "            if player_acting and _hand['value'] < 22:\n",
    "                dealer_acting = True\n",
    "                ##############################\n",
    "                #COUNT DEALERS DOWN CARD HERE\n",
    "                ##############################\n",
    "            \n",
    "        while dealer_acting:\n",
    "#             print(f\"Dealers hand: {d_hand['cards']}\\nDealers hand value: {d_hand['value']}\")\n",
    "            \n",
    "            d_hand = dealer_obj.GetHands()[0]\n",
    "            if d_hand['value'] == 17 and 'ace' in d_hand['cards']:\n",
    "                #hit soft 17\n",
    "                dealer_obj.AddCard(d_hand,shoe_obj.DrawCard())\n",
    "                \n",
    "            elif d_hand['value'] < 17:\n",
    "                #hit\n",
    "                dealer_obj.AddCard(d_hand,shoe_obj.DrawCard())\n",
    "                \n",
    "            else:\n",
    "                #stand\n",
    "                dealer_acting = False\n",
    "        \n",
    "            if d_hand['value'] > 21:\n",
    "                #Dealer bust\n",
    "                dealer_acting = False\n",
    "        \n",
    "        '''\n",
    "        Payout block\n",
    "        '''\n",
    "        #if blackjack/insurance/dealer blackjack has occurred, player_obj.GetHands() returns an empty list\n",
    "        for _hand in player_obj.GetHands():\n",
    "            if _hand['value'] < 22 and d_hand['value'] > 21:\n",
    "                player_obj.bankroll += _hand['bet']\n",
    "\n",
    "            elif _hand['value'] < 22 and _hand['value'] > d_hand['value']:\n",
    "                player_obj.bankroll += _hand['bet']\n",
    "\n",
    "            elif _hand['value'] == d_hand['value']:\n",
    "                #push\n",
    "                pass\n",
    "            else:\n",
    "                player_obj.bankroll -= _hand['bet']\n",
    "        \n",
    "        #records bankroll changes\n",
    "        bank_history = np.append(bank_history,player_obj.bankroll)\n",
    "        #records wins/losses\n",
    "        if bank_history[i] >= bank_history[i-1]:\n",
    "            WL_history = np.append(WL_history,1)\n",
    "        else:\n",
    "            WL_history = np.append(WL_history,0)\n",
    "            \n",
    "        #considers you out of money if you can't split the maximum amount of times (4)\n",
    "        if player_obj.bankroll < betsize*4:\n",
    "            print(f'OUT OF MONEY AFTER {i} HANDS')\n",
    "            break\n",
    "            \n",
    "    print(\"Finished!\")\n",
    "    return player_obj.bankroll,bank_history,WL_history,bj_history\n",
    "    "
   ]
  },
  {
   "cell_type": "code",
   "execution_count": 2,
   "metadata": {},
   "outputs": [],
   "source": [
    "#AutomatedBlackjack parameters: nhands,shoesize,bankroll,counting=False,even_money=False,betsize=5\n",
    "final_bankroll,bank_history,WL_history,bj_history = blackjack.AutomatedBlackjack(nhands=5000,shoesize=2,counting=False,bankroll=10_000,even_money=True,betsize=15)"
   ]
  },
  {
   "cell_type": "code",
   "execution_count": 3,
   "metadata": {},
   "outputs": [
    {
     "data": {
      "text/plain": [
       "9062.5"
      ]
     },
     "execution_count": 3,
     "metadata": {},
     "output_type": "execute_result"
    }
   ],
   "source": [
    "final_bankroll"
   ]
  },
  {
   "cell_type": "code",
   "execution_count": 94,
   "metadata": {},
   "outputs": [
    {
     "data": {
      "text/plain": [
       "0.5"
      ]
     },
     "execution_count": 94,
     "metadata": {},
     "output_type": "execute_result"
    }
   ],
   "source": [
    "WL_history.mean()"
   ]
  },
  {
   "cell_type": "code",
   "execution_count": 4,
   "metadata": {},
   "outputs": [
    {
     "data": {
      "text/plain": [
       "[<matplotlib.lines.Line2D at 0x7f8e13069910>]"
      ]
     },
     "execution_count": 4,
     "metadata": {},
     "output_type": "execute_result"
    },
    {
     "data": {
      "image/png": "[encoded data removed]",
      "text/plain": [
       "<Figure size 1080x720 with 1 Axes>"
      ]
     },
     "metadata": {
      "needs_background": "light"
     },
     "output_type": "display_data"
    }
   ],
   "source": [
    "plt.figure(figsize = (15,10))\n",
    "\n",
    "plt.ylabel('Bankroll')\n",
    "plt.xlabel('Number of Hands')\n",
    "plt.title('Blackjack without counting cards')\n",
    "plt.plot(range(bank_history.shape[0]),bank_history)"
   ]
  },
  {
   "cell_type": "code",
   "execution_count": 17,
   "metadata": {},
   "outputs": [],
   "source": [
    "#AutomatedBlackjack parameters: nhands,shoesize,bankroll,counting=False,even_money=False,betsize=5\n",
    "final_bankroll,bank_history,WL_history,bj_history = blackjack.AutomatedBlackjack(nhands=2500,shoesize=2,counting=True,bankroll=1_000_000,betsize=1250)"
   ]
  },
  {
   "cell_type": "code",
   "execution_count": 19,
   "metadata": {},
   "outputs": [
    {
     "data": {
      "text/plain": [
       "1109625.0"
      ]
     },
     "execution_count": 19,
     "metadata": {},
     "output_type": "execute_result"
    }
   ],
   "source": [
    "final_bankroll"
   ]
  },
  {
   "cell_type": "code",
   "execution_count": 12,
   "metadata": {},
   "outputs": [
    {
     "data": {
      "text/plain": [
       "0.492"
      ]
     },
     "execution_count": 12,
     "metadata": {},
     "output_type": "execute_result"
    }
   ],
   "source": [
    "WL_history.mean()"
   ]
  },
  {
   "cell_type": "code",
   "execution_count": 18,
   "metadata": {},
   "outputs": [
    {
     "data": {
      "text/plain": [
       "[<matplotlib.lines.Line2D at 0x7f8e12750df0>]"
      ]
     },
     "execution_count": 18,
     "metadata": {},
     "output_type": "execute_result"
    },
    {
     "data": {
      "image/png": "[encoded data removed]",
      "text/plain": [
       "<Figure size 1080x720 with 1 Axes>"
      ]
     },
     "metadata": {
      "needs_background": "light"
     },
     "output_type": "display_data"
    }
   ],
   "source": [
    "plt.figure(figsize = (15,10))\n",
    "\n",
    "plt.ylabel('Bankroll')\n",
    "plt.xlabel('Number of Hands')\n",
    "plt.title('Blackjack with counting cards')\n",
    "plt.plot(range(bank_history.shape[0]),bank_history)"
   ]
  },
  {
   "cell_type": "code",
   "execution_count": 6,
   "metadata": {},
   "outputs": [
    {
     "data": {
      "text/plain": [
       "[217, 283]"
      ]
     },
     "execution_count": 6,
     "metadata": {},
     "output_type": "execute_result"
    }
   ],
   "source": [
    "final_bankroll,bank_history,WL_history,bj_history = None,None,None,None\n",
    "bankroll = 10000\n",
    "history_count = [0,0]\n",
    "for _ in range(500):\n",
    "    final_bankroll,bank_history,WL_history,bj_history = blackjack.AutomatedBlackjack(nhands=1000,shoesize=2,counting=False,bankroll=bankroll,even_money=True,betsize=15)\n",
    "    if final_bankroll>=bankroll:\n",
    "        history_count[0] += 1\n",
    "    else:\n",
    "        history_count[1] += 1\n",
    "        \n",
    "history_count"
   ]
  },
  {
   "cell_type": "code",
   "execution_count": 7,
   "metadata": {},
   "outputs": [
    {
     "data": {
      "text/plain": [
       "[301, 199]"
      ]
     },
     "execution_count": 7,
     "metadata": {},
     "output_type": "execute_result"
    }
   ],
   "source": [
    "final_bankroll,bank_history,WL_history,bj_history = None,None,None,None\n",
    "bankroll = 10000\n",
    "history_count = [0,0]\n",
    "for _ in range(500):\n",
    "    final_bankroll,bank_history,WL_history,bj_history = blackjack.AutomatedBlackjack(nhands=1000,shoesize=2,counting=True,bankroll=bankroll,betsize=15)\n",
    "    if final_bankroll>=bankroll:\n",
    "        history_count[0] += 1\n",
    "    else:\n",
    "        history_count[1] += 1\n",
    "\n",
    "history_count"
   ]
  },
  {
   "cell_type": "code",
   "execution_count": null,
   "metadata": {},
   "outputs": [],
   "source": []
  }
 ],
 "metadata": {
  "kernelspec": {
   "display_name": "Python 3",
   "language": "python",
   "name": "python3"
  },
  "language_info": {
   "codemirror_mode": {
    "name": "ipython",
    "version": 3
   },
   "file_extension": ".py",
   "mimetype": "text/x-python",
   "name": "python",
   "nbconvert_exporter": "python",
   "pygments_lexer": "ipython3",
   "version": "3.8.5"
  }
 },
 "nbformat": 4,
 "nbformat_minor": 4
}
