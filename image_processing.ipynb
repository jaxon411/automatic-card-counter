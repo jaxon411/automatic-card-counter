{
 "cells": [
  {
   "cell_type": "code",
   "execution_count": 1,
   "metadata": {},
   "outputs": [],
   "source": [
    "import matplotlib\n",
    "from PIL import Image\n",
    "import os\n",
    "import random"
   ]
  },
  {
   "cell_type": "code",
   "execution_count": 6,
   "metadata": {},
   "outputs": [],
   "source": [
    "#crops the images by splitting them in half\n",
    "for path in os.listdir('../automatic-card-counter/imgs_raw/'):\n",
    "    img = Image.open('../automatic-card-counter/imgs_raw/'+path)\n",
    "    width,height = img.size\n",
    "    img.crop((0,0,width,height/2)).save('../automatic-card-counter/imgs_cropped/'+path[:-4]+'_1'+'.jpg','JPEG')\n",
    "    img.crop((0,height/2,width,height)).save('../automatic-card-counter/imgs_cropped/'+path[:-4]+'_2'+'.jpg','JPEG')"
   ]
  },
  {
   "cell_type": "code",
   "execution_count": 12,
   "metadata": {},
   "outputs": [
    {
     "data": {
      "text/plain": [
       "(148, 118, 30)"
      ]
     },
     "execution_count": 12,
     "metadata": {},
     "output_type": "execute_result"
    }
   ],
   "source": [
    "dirs = os.listdir('../automatic-card-counter/imgs_cropped/')\n",
    "len(dirs),round(len(dirs)*0.8),round(len(dirs)*0.2)"
   ]
  },
  {
   "cell_type": "code",
   "execution_count": 14,
   "metadata": {},
   "outputs": [],
   "source": [
    "#train-test split images \n",
    "dirs = os.listdir('../automatic-card-counter/imgs_cropped/')\n",
    "split_perc = 0.8 #percentage of train data to split with\n",
    "random.shuffle(dirs)\n",
    "for i,path in enumerate(dirs):\n",
    "    if i < round(len(dirs)*split_perc):\n",
    "        os.rename('../automatic-card-counter/imgs_cropped/'+path,'../automatic-card-counter/imgs/train/'+path)\n",
    "    else:\n",
    "        os.rename('../automatic-card-counter/imgs_cropped/'+path,'../automatic-card-counter/imgs/val/'+path)"
   ]
  },
  {
   "cell_type": "code",
   "execution_count": null,
   "metadata": {},
   "outputs": [],
   "source": []
  }
 ],
 "metadata": {
  "kernelspec": {
   "display_name": "Python 3",
   "language": "python",
   "name": "python3"
  },
  "language_info": {
   "codemirror_mode": {
    "name": "ipython",
    "version": 3
   },
   "file_extension": ".py",
   "mimetype": "text/x-python",
   "name": "python",
   "nbconvert_exporter": "python",
   "pygments_lexer": "ipython3",
   "version": "3.7.6"
  }
 },
 "nbformat": 4,
 "nbformat_minor": 4
}
