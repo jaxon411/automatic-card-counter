{
 "cells": [
  {
   "cell_type": "code",
   "execution_count": 2,
   "metadata": {},
   "outputs": [
    {
     "name": "stdout",
     "output_type": "stream",
     "text": [
      "Note: you may need to restart the kernel to use updated packages.\n"
     ]
    }
   ],
   "source": [
    "%pip install -qr requirements.txt"
   ]
  },
  {
   "cell_type": "code",
   "execution_count": 2,
   "metadata": {},
   "outputs": [],
   "source": [
    "import torch\n",
    "import cv2"
   ]
  },
  {
   "cell_type": "code",
   "execution_count": 2,
   "metadata": {},
   "outputs": [],
   "source": [
    "#Basic video capture functionality to make sure your input sources is working\n",
    "cap = cv2.VideoCapture(0)\n",
    "cap.set(cv2.CAP_PROP_FRAME_WIDTH, 1024) #set video resolution width\n",
    "cap.set(cv2.CAP_PROP_FRAME_HEIGHT, 576) #set video resolution height\n",
    "\n",
    "while(True):\n",
    "    # Capture frame-by-frame\n",
    "    ret, frame = cap.read()    # Our operations on the frame come here\n",
    "\n",
    "    cv2.imshow('frame',frame)\n",
    "    if cv2.waitKey(1) & 0xFF == ord('q'): #q is the quit key\n",
    "        break# When everything done, release the capture\n",
    "cap.release()\n",
    "cv2.destroyAllWindows()"
   ]
  },
  {
   "cell_type": "code",
   "execution_count": null,
   "metadata": {},
   "outputs": [],
   "source": [
    "###########\n",
    "#IMPORTANT: commands must be run from yolov5 directory\n",
    "###########\n",
    "'''\n",
    "Detection command arguments:\n",
    "\n",
    "--weights\n",
    "    default='yolov5s.pt', help='model.pt path(s)\n",
    "--source'\n",
    "    default='data/images', help='source')  # file/folder, 0 for webcam\n",
    "--img\n",
    "    default=640, help='inference size (pixels)\n",
    "--conf\n",
    "    default=0.25, help='object confidence threshold\n",
    "--iou\n",
    "    default=0.45, help='IOU threshold for NMS\n",
    "--view-img\n",
    "    help='display results')\n",
    "--save-txt\n",
    "    save results to *.txt\n",
    "--save-conf\n",
    "    save confidences in --save-txt labels\n",
    "--exist\n",
    "    existing project/name ok, do not increment directory\n",
    "'''"
   ]
  },
  {
   "cell_type": "code",
   "execution_count": null,
   "metadata": {},
   "outputs": [],
   "source": [
    "#command to run card detection model on live webcam\n",
    "#can also be run from the terminal in the yolov5 directory\n",
    "!python detect.py --weights runs/train/exp5/weights/best.pt --img 1024 --conf 0.93 --exist --source 0"
   ]
  },
  {
   "cell_type": "code",
   "execution_count": null,
   "metadata": {},
   "outputs": [],
   "source": [
    "#command to run card detection model on a video file\n",
    "#can also be run from the terminal in the yolov5 directory\n",
    "!python detect.py --weights runs/train/exp5/weights/best.pt --img 1024 --conf 0.93 --exist --source live_video_img/playingblackjack.mp4"
   ]
  },
  {
   "cell_type": "code",
   "execution_count": null,
   "metadata": {},
   "outputs": [],
   "source": [
    "#For in the model to a variable rather than terminal commands\n",
    "\n",
    "#load from local directory (USES EDITED models/common.py)\n",
    "model = torch.hub.load('./', 'custom', path_or_model='runs/train/exp5/weights/best.pt',source='local')\n",
    "\n",
    "#load from torch.hub repository of yolov5\n",
    "# model = torch.hub.load('ultralytics/yolov5', 'custom', path_or_model='runs/train/exp5/weights/best.pt') "
   ]
  }
 ],
 "metadata": {
  "kernelspec": {
   "display_name": "Python 3",
   "language": "python",
   "name": "python3"
  },
  "language_info": {
   "codemirror_mode": {
    "name": "ipython",
    "version": 3
   },
   "file_extension": ".py",
   "mimetype": "text/x-python",
   "name": "python",
   "nbconvert_exporter": "python",
   "pygments_lexer": "ipython3",
   "version": "3.8.5"
  }
 },
 "nbformat": 4,
 "nbformat_minor": 4
}
