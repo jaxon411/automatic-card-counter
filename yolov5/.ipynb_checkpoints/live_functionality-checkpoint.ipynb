{
 "cells": [
  {
   "cell_type": "code",
   "execution_count": 3,
   "metadata": {},
   "outputs": [],
   "source": [
    "import numpy as np\n",
    "import matplotlib.pyplot as plt\n",
    "import skimage.io\n",
    "import cv2"
   ]
  },
  {
   "cell_type": "code",
   "execution_count": 10,
   "metadata": {},
   "outputs": [],
   "source": [
    "cap = cv2.VideoCapture(0)\n",
    "cap.set(cv2.CAP_PROP_FRAME_WIDTH, 1024) #set video resolution width\n",
    "cap.set(cv2.CAP_PROP_FRAME_HEIGHT, 576) #set video resolution height\n",
    "\n",
    "#debugging\n",
    "# img_top = None\n",
    "# img_bottom = None\n",
    "\n",
    "while(True):\n",
    "    # Capture frame-by-frame\n",
    "    ret, frame = cap.read()    # Our operations on the frame come here\n",
    "    \n",
    "    img_top = frame[:(frame.shape[0]//2),:,:] #crop top half of image\n",
    "    img_bottom = frame[(frame.shape[0]//2):,:,:] #crop bottom half of image\n",
    "    \n",
    "    skimage.io.imsave('live_video_img/live_img_top.jpg',cv2.cvtColor(img_top,cv2.COLOR_BGR2RGB)) #save top half crop\n",
    "    skimage.io.imsave('live_video_img/live_img_bottom.jpg',cv2.cvtColor(img_bottom,cv2.COLOR_BGR2RGB)) #save bottom half crop\n",
    "    \n",
    "    \n",
    "    cv2.imshow('frame',frame)\n",
    "    if cv2.waitKey(1) & 0xFF == ord('q'): #q is the quit key\n",
    "        break# When everything done, release the capture\n",
    "cap.release()\n",
    "cv2.destroyAllWindows()"
   ]
  },
  {
   "cell_type": "code",
   "execution_count": null,
   "metadata": {},
   "outputs": [],
   "source": []
  }
 ],
 "metadata": {
  "kernelspec": {
   "display_name": "Python 3",
   "language": "python",
   "name": "python3"
  },
  "language_info": {
   "codemirror_mode": {
    "name": "ipython",
    "version": 3
   },
   "file_extension": ".py",
   "mimetype": "text/x-python",
   "name": "python",
   "nbconvert_exporter": "python",
   "pygments_lexer": "ipython3",
   "version": "3.7.6"
  }
 },
 "nbformat": 4,
 "nbformat_minor": 4
}
