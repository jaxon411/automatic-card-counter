{
 "cells": [
  {
   "cell_type": "code",
   "execution_count": 4,
   "metadata": {},
   "outputs": [
    {
     "name": "stdout",
     "output_type": "stream",
     "text": [
      "\u001b[31mERROR: pip's dependency resolver does not currently take into account all the packages that are installed. This behaviour is the source of the following dependency conflicts.\n",
      "tensorflow-gpu 2.3.1 requires numpy<1.19.0,>=1.16.0, but you have numpy 1.19.5 which is incompatible.\u001b[0m\n",
      "\u001b[33mWARNING: You are using pip version 20.3; however, version 20.3.3 is available.\n",
      "You should consider upgrading via the '/home/jaxon/anaconda3/bin/python -m pip install --upgrade pip' command.\u001b[0m\n",
      "Note: you may need to restart the kernel to use updated packages.\n"
     ]
    }
   ],
   "source": [
    "%pip install -qr requirements.txt"
   ]
  },
  {
   "cell_type": "code",
   "execution_count": 6,
   "metadata": {},
   "outputs": [],
   "source": [
    "import torch\n",
    "import numpy as np\n",
    "import matplotlib.pyplot as plt\n",
    "import skimage.io\n",
    "import cv2"
   ]
  },
  {
   "cell_type": "code",
   "execution_count": 10,
   "metadata": {},
   "outputs": [],
   "source": [
    "cap = cv2.VideoCapture(0)\n",
    "cap.set(cv2.CAP_PROP_FRAME_WIDTH, 1024) #set video resolution width\n",
    "cap.set(cv2.CAP_PROP_FRAME_HEIGHT, 576) #set video resolution height\n",
    "\n",
    "#debugging\n",
    "# img_top = None\n",
    "# img_bottom = None\n",
    "\n",
    "while(True):\n",
    "    # Capture frame-by-frame\n",
    "    ret, frame = cap.read()    # Our operations on the frame come here\n",
    "    \n",
    "    img_top = frame[:(frame.shape[0]//2),:,:] #crop top half of image\n",
    "    img_bottom = frame[(frame.shape[0]//2):,:,:] #crop bottom half of image\n",
    "    \n",
    "    skimage.io.imsave('live_video_img/live_img_top.jpg',cv2.cvtColor(img_top,cv2.COLOR_BGR2RGB)) #save top half crop\n",
    "    skimage.io.imsave('live_video_img/live_img_bottom.jpg',cv2.cvtColor(img_bottom,cv2.COLOR_BGR2RGB)) #save bottom half crop\n",
    "    \n",
    "    \n",
    "    cv2.imshow('frame',frame)\n",
    "    if cv2.waitKey(1) & 0xFF == ord('q'): #q is the quit key\n",
    "        break# When everything done, release the capture\n",
    "cap.release()\n",
    "cv2.destroyAllWindows()"
   ]
  },
  {
   "cell_type": "code",
   "execution_count": 1,
   "metadata": {},
   "outputs": [
    {
     "name": "stdout",
     "output_type": "stream",
     "text": [
      "Namespace(agnostic_nms=False, augment=False, classes=None, conf_thres=0.7, device='', exist_ok=False, img_size=1024, iou_thres=0.45, name='exp', project='runs/detect', save_conf=False, save_txt=False, source='live_video_img', update=False, view_img=False, weights=['runs/train/exp2/weights/best.pt'])\n",
      "Using torch 1.7.1 CUDA:0 (Tesla T4, 15109.75MB)\n",
      "\n",
      "\n",
      "Fusing layers... \n",
      "Model Summary: 224 layers, 7088971 parameters, 0 gradients, 16.4 GFLOPS\n",
      "image 1/2 /home/ubuntu/repos/automatic-card-counter/yolov5/live_video_img/live_img_bottom.jpg: 288x1024 1 backs, Done. (0.022s)\n",
      "image 2/2 /home/ubuntu/repos/automatic-card-counter/yolov5/live_video_img/live_img_top.jpg: 288x1024 1 backs, Done. (0.010s)\n",
      "Results saved to runs/detect/exp\n",
      "Done. (0.109s)\n"
     ]
    }
   ],
   "source": [
    "!python detect.py --weights runs/train/exp2/weights/best.pt --img 1024 --conf 0.7 --source live_video_img;\n",
    "# Image(filename='live_video_img/live_img_top.jpg', width=1024)"
   ]
  },
  {
   "cell_type": "code",
   "execution_count": null,
   "metadata": {},
   "outputs": [],
   "source": []
  }
 ],
 "metadata": {
  "kernelspec": {
   "display_name": "Python 3",
   "language": "python",
   "name": "python3"
  },
  "language_info": {
   "codemirror_mode": {
    "name": "ipython",
    "version": 3
   },
   "file_extension": ".py",
   "mimetype": "text/x-python",
   "name": "python",
   "nbconvert_exporter": "python",
   "pygments_lexer": "ipython3",
   "version": "3.7.6"
  }
 },
 "nbformat": 4,
 "nbformat_minor": 4
}
