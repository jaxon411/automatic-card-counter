{
 "cells": [
  {
   "cell_type": "code",
   "execution_count": 1,
   "metadata": {},
   "outputs": [
    {
     "name": "stdout",
     "output_type": "stream",
     "text": [
      "Setup complete. Using torch 1.7.1 _CudaDeviceProperties(name='Tesla T4', major=7, minor=5, total_memory=15109MB, multi_processor_count=40)\n"
     ]
    }
   ],
   "source": [
    "import torch\n",
    "from IPython.display import Image, clear_output  # to display images\n",
    "\n",
    "clear_output()\n",
    "print('Setup complete. Using torch %s %s' % (torch.__version__, torch.cuda.get_device_properties(0) if torch.cuda.is_available() else 'CPU'))"
   ]
  },
  {
   "cell_type": "code",
   "execution_count": null,
   "metadata": {},
   "outputs": [],
   "source": [
    "#training command, can also be run in terminal \n",
    "###########\n",
    "#IMPORTANT: commands must be run from yolov5 directory\n",
    "###########\n",
    "'''\n",
    "Training command arguments:\n",
    "\n",
    "--weights\n",
    "    initial weights path\n",
    "--cfg\n",
    "    model.yaml path\n",
    "--data\n",
    "    data.yaml path\n",
    "    default='data/coco128.yaml\n",
    "--epochs\n",
    "default=300)\n",
    "--batch-size\n",
    "    total batch size for all GPUs\n",
    "    default=16\n",
    "--img\n",
    "    [train, test] image sizes\n",
    "    default=[640, 640]\n",
    "--exist\n",
    "    existing project/name ok, do not increment directories\n",
    "'''\n",
    "!python train.py --img 1024 --batch 16 --epochs 500 --data ../cards_first.yaml --weights yolov5s.pt"
   ]
  }
 ],
 "metadata": {
  "kernelspec": {
   "display_name": "Python 3",
   "language": "python",
   "name": "python3"
  },
  "language_info": {
   "codemirror_mode": {
    "name": "ipython",
    "version": 3
   },
   "file_extension": ".py",
   "mimetype": "text/x-python",
   "name": "python",
   "nbconvert_exporter": "python",
   "pygments_lexer": "ipython3",
   "version": "3.8.5"
  }
 },
 "nbformat": 4,
 "nbformat_minor": 4
}
